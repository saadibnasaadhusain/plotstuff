{
 "cells": [
  {
   "cell_type": "code",
   "execution_count": 9,
   "metadata": {},
   "outputs": [
    {
     "data": {
      "text/latex": [
       "$\\displaystyle \\left[ \\left( x, \\  - \\frac{b x + c}{x^{2}}, \\  b, \\  c\\right)\\right]$"
      ],
      "text/plain": [
       "<IPython.core.display.Math object>"
      ]
     },
     "metadata": {},
     "output_type": "display_data"
    },
    {
     "data": {
      "text/latex": [
       "$\\displaystyle \\left[ \\frac{- b + \\sqrt{- 4 a c + b^{2}}}{2 a}, \\  - \\frac{b + \\sqrt{- 4 a c + b^{2}}}{2 a}\\right]$"
      ],
      "text/plain": [
       "<IPython.core.display.Math object>"
      ]
     },
     "metadata": {},
     "output_type": "display_data"
    },
    {
     "name": "stdout",
     "output_type": "stream",
     "text": [
      "[(-b + sqrt(-4*a*c + b**2))/(2*a), -(b + sqrt(-4*a*c + b**2))/(2*a)]\n"
     ]
    }
   ],
   "source": [
    "import sympy as sp\n",
    "from IPython.display import display, Math\n",
    "y = 'a * x ** 2 + b * x + c' # for example a quadratic polynomial\n",
    "\n",
    "s = sp.var('x a b c')        # define four symbols as variables\n",
    "\n",
    "display(Math(sp.latex(sp.solve(y,  s))))      # sympy solves y(a,b,c,x) for each of a, b, c, x\n",
    "display(Math(sp.latex(sp.solve(y,  x))))     # sympy solves Y(a,b,c,x) for x treating a, b, c as constants\n",
    "print(sp.solve(y, 'x'))      # sympy solves Y(a,b,c,x) for x treating a, b, c as constants"
   ]
  },
  {
   "cell_type": "code",
   "execution_count": 16,
   "metadata": {},
   "outputs": [
    {
     "data": {
      "text/latex": [
       "$\\displaystyle \\left[ \\frac{A^{2} a^{2} b^{2} + A^{2} a^{2} c^{2} + B^{2} a^{2} b^{2} + B^{2} b^{2} c^{2} + C^{2} a^{2} c^{2} + C^{2} b^{2} c^{2} - \\sqrt{A^{4} a^{4} b^{4} - 2 A^{4} a^{4} b^{2} c^{2} + A^{4} a^{4} c^{4} + 2 A^{2} B^{2} a^{4} b^{4} - 2 A^{2} B^{2} a^{4} b^{2} c^{2} - 2 A^{2} B^{2} a^{2} b^{4} c^{2} + 2 A^{2} B^{2} a^{2} b^{2} c^{4} - 2 A^{2} C^{2} a^{4} b^{2} c^{2} + 2 A^{2} C^{2} a^{4} c^{4} + 2 A^{2} C^{2} a^{2} b^{4} c^{2} - 2 A^{2} C^{2} a^{2} b^{2} c^{4} + B^{4} a^{4} b^{4} - 2 B^{4} a^{2} b^{4} c^{2} + B^{4} b^{4} c^{4} + 2 B^{2} C^{2} a^{4} b^{2} c^{2} - 2 B^{2} C^{2} a^{2} b^{4} c^{2} - 2 B^{2} C^{2} a^{2} b^{2} c^{4} + 2 B^{2} C^{2} b^{4} c^{4} + C^{4} a^{4} c^{4} - 2 C^{4} a^{2} b^{2} c^{4} + C^{4} b^{4} c^{4}}}{2 \\left(A^{2} a^{2} + B^{2} b^{2} + C^{2} c^{2}\\right)}, \\  \\frac{A^{2} a^{2} b^{2} + A^{2} a^{2} c^{2} + B^{2} a^{2} b^{2} + B^{2} b^{2} c^{2} + C^{2} a^{2} c^{2} + C^{2} b^{2} c^{2} + \\sqrt{A^{4} a^{4} b^{4} - 2 A^{4} a^{4} b^{2} c^{2} + A^{4} a^{4} c^{4} + 2 A^{2} B^{2} a^{4} b^{4} - 2 A^{2} B^{2} a^{4} b^{2} c^{2} - 2 A^{2} B^{2} a^{2} b^{4} c^{2} + 2 A^{2} B^{2} a^{2} b^{2} c^{4} - 2 A^{2} C^{2} a^{4} b^{2} c^{2} + 2 A^{2} C^{2} a^{4} c^{4} + 2 A^{2} C^{2} a^{2} b^{4} c^{2} - 2 A^{2} C^{2} a^{2} b^{2} c^{4} + B^{4} a^{4} b^{4} - 2 B^{4} a^{2} b^{4} c^{2} + B^{4} b^{4} c^{4} + 2 B^{2} C^{2} a^{4} b^{2} c^{2} - 2 B^{2} C^{2} a^{2} b^{4} c^{2} - 2 B^{2} C^{2} a^{2} b^{2} c^{4} + 2 B^{2} C^{2} b^{4} c^{4} + C^{4} a^{4} c^{4} - 2 C^{4} a^{2} b^{2} c^{4} + C^{4} b^{4} c^{4}}}{2 \\left(A^{2} a^{2} + B^{2} b^{2} + C^{2} c^{2}\\right)}\\right]$"
      ],
      "text/plain": [
       "<IPython.core.display.Math object>"
      ]
     },
     "metadata": {},
     "output_type": "display_data"
    }
   ],
   "source": [
    "import sympy as sp\n",
    "from IPython.display import display, Math\n",
    "s = sp.var('A a B b C c l') #defining the symbols as variables\n",
    "y = '((A*a)**2 + (B*b)**2 + (C*c)**2)*l**2 -((b**2 + c**2)*(A*a)**2 + (a**2 + c**2)*(B*b)**2 + (a**2 + b**2)*(C*c)**2)*l + (A**2 + B**2 + C**2)*(a*b*c)**2'\n",
    "display(Math(sp.latex(sp.solve(y,l))))"
   ]
  },
  {
   "cell_type": "code",
   "execution_count": null,
   "metadata": {},
   "outputs": [],
   "source": []
  }
 ],
 "metadata": {
  "kernelspec": {
   "display_name": "Python 3",
   "language": "python",
   "name": "python3"
  },
  "language_info": {
   "codemirror_mode": {
    "name": "ipython",
    "version": 3
   },
   "file_extension": ".py",
   "mimetype": "text/x-python",
   "name": "python",
   "nbconvert_exporter": "python",
   "pygments_lexer": "ipython3",
   "version": "3.8.3"
  }
 },
 "nbformat": 4,
 "nbformat_minor": 4
}
